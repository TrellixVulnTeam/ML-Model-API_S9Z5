{
 "cells": [
  {
   "cell_type": "markdown",
   "metadata": {},
   "source": [
    "**Sarcasm Detection**\n",
    "\n",
    "The blog *\"The Sarcastic Commentator\"* has become viral. It has decided to hire a Natural Language Specialist to automate the process of detecting sarcasm. As a Natual Language Specialist, you job is to predict whether a particular comment is sarcastic or not.\n",
    "\n",
    "**Data** \n",
    "\n",
    "The dataset train.csv and test.csv is provided for your reference under the datasets folder\n",
    "\n",
    "**Data Dictionary**\n",
    "\n",
    "| Variable   | Definition  | Variable Type |\n",
    "| ------------- |:-------------:|:-------------:| \n",
    "| label            |   Target value    | int64|\n",
    "| comment      | Comments made by the user  |string|\n",
    "| user | User Name  |string|\n",
    "| topic | Topic of discussion  |string| int64|\n",
    "| score | Score based on upvote and downvote  | int64 |\n",
    "| top   | Top Vote | int64 |\n",
    "| down   | Down Vote |int64 |\n",
    "| date   | Date | string |\n",
    "| parent_comment   | Parent comment of the user | string |\n",
    "\n",
    "There is a total of 9 columns. The number of records in the Training dataset is **808618** records and the number of records in the Testing dataset is **202155** records.\n",
    "\n",
    "**Expected Outcome**\n",
    "\n",
    "You are expected to use a suitable Machine Learning algorithm classify whether the comment is sarcastic or not.\n",
    "\n",
    "You are expected to do the following steps\n",
    "\n",
    "1. Use Natual Language Processing techniques like Stemming and Tokenization.\n",
    "\n",
    "2. Use a suitable word vectorization technique.\n",
    "\n",
    "3. Use a suitable classification algorithm \n",
    "\n",
    "**Submission and Evaluation**\n",
    "\n",
    "1. You need to submit your prediction under 'checker/submission.csv' - Use numpy savetxt method to save the numpy array\n",
    "\n",
    "\n",
    "2. Accuracy score is used for evalution."
   ]
  },
  {
   "cell_type": "markdown",
   "metadata": {},
   "source": [
    "**Preprocessing**"
   ]
  },
  {
   "cell_type": "code",
   "execution_count": 2,
   "metadata": {},
   "outputs": [],
   "source": [
    "\n",
    "PATH_TO_TRAIN_DATA = 'data/train.csv'\n",
    "PATH_TO_TEST_DATA = 'data/test.csv'\n",
    "PATH_TO_MODEL = ''"
   ]
  },
  {
   "cell_type": "code",
   "execution_count": 3,
   "metadata": {},
   "outputs": [],
   "source": [
    "# some necessary imports\n",
    "import os\n",
    "import numpy as np\n",
    "import pandas as pd\n",
    "from sklearn.feature_extraction.text import TfidfVectorizer\n",
    "from sklearn.linear_model import LogisticRegression\n",
    "from sklearn.pipeline import Pipeline\n",
    "from sklearn.model_selection import train_test_split\n",
    "from sklearn.metrics import accuracy_score, confusion_matrix\n",
    "import seaborn as sns\n",
    "from matplotlib import pyplot as plt\n",
    "from sklearn.externals import joblib"
   ]
  },
  {
   "cell_type": "code",
   "execution_count": 4,
   "metadata": {},
   "outputs": [],
   "source": [
    "train_df = pd.read_csv(PATH_TO_TRAIN_DATA)\n",
    "test_df = pd.read_csv(PATH_TO_TEST_DATA)\n"
   ]
  },
  {
   "cell_type": "code",
   "execution_count": 5,
   "metadata": {},
   "outputs": [
    {
     "data": {
      "text/html": [
       "<div>\n",
       "<style scoped>\n",
       "    .dataframe tbody tr th:only-of-type {\n",
       "        vertical-align: middle;\n",
       "    }\n",
       "\n",
       "    .dataframe tbody tr th {\n",
       "        vertical-align: top;\n",
       "    }\n",
       "\n",
       "    .dataframe thead th {\n",
       "        text-align: right;\n",
       "    }\n",
       "</style>\n",
       "<table border=\"1\" class=\"dataframe\">\n",
       "  <thead>\n",
       "    <tr style=\"text-align: right;\">\n",
       "      <th></th>\n",
       "      <th>label</th>\n",
       "      <th>comment</th>\n",
       "      <th>user</th>\n",
       "      <th>topic</th>\n",
       "      <th>score</th>\n",
       "      <th>top</th>\n",
       "      <th>down</th>\n",
       "      <th>date</th>\n",
       "      <th>parent_comment</th>\n",
       "    </tr>\n",
       "  </thead>\n",
       "  <tbody>\n",
       "    <tr>\n",
       "      <th>0</th>\n",
       "      <td>0</td>\n",
       "      <td>Leo breaking the glass and cutting his hand wa...</td>\n",
       "      <td>Cthulhu_Walks</td>\n",
       "      <td>NotTimAndEric</td>\n",
       "      <td>66</td>\n",
       "      <td>66</td>\n",
       "      <td>0</td>\n",
       "      <td>2016-06</td>\n",
       "      <td>Did you know Steve Buschemi was a volunteer fi...</td>\n",
       "    </tr>\n",
       "    <tr>\n",
       "      <th>1</th>\n",
       "      <td>0</td>\n",
       "      <td>I like 11th, it is freaking awesome.</td>\n",
       "      <td>valadian</td>\n",
       "      <td>minasminas</td>\n",
       "      <td>3</td>\n",
       "      <td>3</td>\n",
       "      <td>0</td>\n",
       "      <td>2013-06</td>\n",
       "      <td>House of the Harp Library Prototypes (apologie...</td>\n",
       "    </tr>\n",
       "    <tr>\n",
       "      <th>2</th>\n",
       "      <td>1</td>\n",
       "      <td>You're a robot, you don't have emotions!</td>\n",
       "      <td>CowTusks</td>\n",
       "      <td>amiibo</td>\n",
       "      <td>1</td>\n",
       "      <td>1</td>\n",
       "      <td>0</td>\n",
       "      <td>2015-05</td>\n",
       "      <td>Just a quiet long emotional amiibo story. This...</td>\n",
       "    </tr>\n",
       "    <tr>\n",
       "      <th>3</th>\n",
       "      <td>1</td>\n",
       "      <td>Everyone knows black people don't have jobs so...</td>\n",
       "      <td>Uaedaien</td>\n",
       "      <td>politics</td>\n",
       "      <td>14</td>\n",
       "      <td>14</td>\n",
       "      <td>0</td>\n",
       "      <td>2013-11</td>\n",
       "      <td>\"You're under arrest for trespassing.\" \"But I ...</td>\n",
       "    </tr>\n",
       "    <tr>\n",
       "      <th>4</th>\n",
       "      <td>1</td>\n",
       "      <td>Thank you for that reasoned and well argued co...</td>\n",
       "      <td>Callous1970</td>\n",
       "      <td>news</td>\n",
       "      <td>1</td>\n",
       "      <td>1</td>\n",
       "      <td>0</td>\n",
       "      <td>2016-01</td>\n",
       "      <td>Nope. Your idea is awful.</td>\n",
       "    </tr>\n",
       "  </tbody>\n",
       "</table>\n",
       "</div>"
      ],
      "text/plain": [
       "   label                                            comment           user  \\\n",
       "0      0  Leo breaking the glass and cutting his hand wa...  Cthulhu_Walks   \n",
       "1      0               I like 11th, it is freaking awesome.       valadian   \n",
       "2      1           You're a robot, you don't have emotions!       CowTusks   \n",
       "3      1  Everyone knows black people don't have jobs so...       Uaedaien   \n",
       "4      1  Thank you for that reasoned and well argued co...    Callous1970   \n",
       "\n",
       "           topic  score  top  down     date  \\\n",
       "0  NotTimAndEric     66   66     0  2016-06   \n",
       "1     minasminas      3    3     0  2013-06   \n",
       "2         amiibo      1    1     0  2015-05   \n",
       "3       politics     14   14     0  2013-11   \n",
       "4           news      1    1     0  2016-01   \n",
       "\n",
       "                                      parent_comment  \n",
       "0  Did you know Steve Buschemi was a volunteer fi...  \n",
       "1  House of the Harp Library Prototypes (apologie...  \n",
       "2  Just a quiet long emotional amiibo story. This...  \n",
       "3  \"You're under arrest for trespassing.\" \"But I ...  \n",
       "4                          Nope. Your idea is awful.  "
      ]
     },
     "execution_count": 5,
     "metadata": {},
     "output_type": "execute_result"
    }
   ],
   "source": [
    "train_df.head()"
   ]
  },
  {
   "cell_type": "code",
   "execution_count": 6,
   "metadata": {},
   "outputs": [
    {
     "data": {
      "text/plain": [
       "label              int64\n",
       "comment           object\n",
       "user              object\n",
       "topic             object\n",
       "score              int64\n",
       "top                int64\n",
       "down               int64\n",
       "date              object\n",
       "parent_comment    object\n",
       "dtype: object"
      ]
     },
     "execution_count": 6,
     "metadata": {},
     "output_type": "execute_result"
    }
   ],
   "source": [
    "train_df.dtypes"
   ]
  },
  {
   "cell_type": "code",
   "execution_count": 7,
   "metadata": {},
   "outputs": [
    {
     "name": "stdout",
     "output_type": "stream",
     "text": [
      "<class 'pandas.core.frame.DataFrame'>\n",
      "RangeIndex: 808618 entries, 0 to 808617\n",
      "Data columns (total 9 columns):\n",
      "label             808618 non-null int64\n",
      "comment           808618 non-null object\n",
      "user              808618 non-null object\n",
      "topic             808618 non-null object\n",
      "score             808618 non-null int64\n",
      "top               808618 non-null int64\n",
      "down              808618 non-null int64\n",
      "date              808618 non-null object\n",
      "parent_comment    808618 non-null object\n",
      "dtypes: int64(4), object(5)\n",
      "memory usage: 55.5+ MB\n"
     ]
    }
   ],
   "source": [
    "train_df.info()"
   ]
  },
  {
   "cell_type": "code",
   "execution_count": 8,
   "metadata": {},
   "outputs": [
    {
     "name": "stdout",
     "output_type": "stream",
     "text": [
      "<class 'pandas.core.frame.DataFrame'>\n",
      "RangeIndex: 202155 entries, 0 to 202154\n",
      "Data columns (total 8 columns):\n",
      "comment           202155 non-null object\n",
      "user              202155 non-null object\n",
      "topic             202155 non-null object\n",
      "score             202155 non-null int64\n",
      "top               202155 non-null int64\n",
      "down              202155 non-null int64\n",
      "date              202155 non-null object\n",
      "parent_comment    202155 non-null object\n",
      "dtypes: int64(3), object(5)\n",
      "memory usage: 12.3+ MB\n"
     ]
    }
   ],
   "source": [
    "test_df.info()"
   ]
  },
  {
   "cell_type": "code",
   "execution_count": 5,
   "metadata": {},
   "outputs": [
    {
     "data": {
      "text/html": [
       "<div>\n",
       "<style scoped>\n",
       "    .dataframe tbody tr th:only-of-type {\n",
       "        vertical-align: middle;\n",
       "    }\n",
       "\n",
       "    .dataframe tbody tr th {\n",
       "        vertical-align: top;\n",
       "    }\n",
       "\n",
       "    .dataframe thead th {\n",
       "        text-align: right;\n",
       "    }\n",
       "</style>\n",
       "<table border=\"1\" class=\"dataframe\">\n",
       "  <thead>\n",
       "    <tr style=\"text-align: right;\">\n",
       "      <th></th>\n",
       "      <th>comment</th>\n",
       "      <th>user</th>\n",
       "      <th>topic</th>\n",
       "      <th>score</th>\n",
       "      <th>top</th>\n",
       "      <th>down</th>\n",
       "      <th>date</th>\n",
       "      <th>parent_comment</th>\n",
       "    </tr>\n",
       "  </thead>\n",
       "  <tbody>\n",
       "    <tr>\n",
       "      <th>0</th>\n",
       "      <td>this clearly wearing baggy clothing should mea...</td>\n",
       "      <td>Turboswaggg</td>\n",
       "      <td>GlobalOffensive</td>\n",
       "      <td>-7</td>\n",
       "      <td>-7</td>\n",
       "      <td>0</td>\n",
       "      <td>2015-06</td>\n",
       "      <td>if I shot a guy through his clothing he wouldn...</td>\n",
       "    </tr>\n",
       "    <tr>\n",
       "      <th>1</th>\n",
       "      <td>If your last name was Gary, why would your par...</td>\n",
       "      <td>TheWayoftheFuture</td>\n",
       "      <td>CFB</td>\n",
       "      <td>7</td>\n",
       "      <td>7</td>\n",
       "      <td>0</td>\n",
       "      <td>2014-12</td>\n",
       "      <td>It really does smell, doesn't it? I wish it we...</td>\n",
       "    </tr>\n",
       "    <tr>\n",
       "      <th>2</th>\n",
       "      <td>because everyone's buying</td>\n",
       "      <td>holysocks</td>\n",
       "      <td>nyc</td>\n",
       "      <td>2</td>\n",
       "      <td>2</td>\n",
       "      <td>0</td>\n",
       "      <td>2015-12</td>\n",
       "      <td>There Haven't Been This Many Vacant Rentals in...</td>\n",
       "    </tr>\n",
       "    <tr>\n",
       "      <th>3</th>\n",
       "      <td>It's all fun and games until they claim to sme...</td>\n",
       "      <td>NorthATXGuy</td>\n",
       "      <td>Austin</td>\n",
       "      <td>47</td>\n",
       "      <td>47</td>\n",
       "      <td>0</td>\n",
       "      <td>2015-12</td>\n",
       "      <td>Wilco PD Pulling Over Good Drivers to Distribu...</td>\n",
       "    </tr>\n",
       "    <tr>\n",
       "      <th>4</th>\n",
       "      <td>Clearly not a true American</td>\n",
       "      <td>zrowny</td>\n",
       "      <td>AskReddit</td>\n",
       "      <td>1</td>\n",
       "      <td>1</td>\n",
       "      <td>0</td>\n",
       "      <td>2014-11</td>\n",
       "      <td>I knew that. Why did I type the other thing?</td>\n",
       "    </tr>\n",
       "  </tbody>\n",
       "</table>\n",
       "</div>"
      ],
      "text/plain": [
       "                                             comment               user  \\\n",
       "0  this clearly wearing baggy clothing should mea...        Turboswaggg   \n",
       "1  If your last name was Gary, why would your par...  TheWayoftheFuture   \n",
       "2                          because everyone's buying          holysocks   \n",
       "3  It's all fun and games until they claim to sme...        NorthATXGuy   \n",
       "4                        Clearly not a true American             zrowny   \n",
       "\n",
       "             topic  score  top  down     date  \\\n",
       "0  GlobalOffensive     -7   -7     0  2015-06   \n",
       "1              CFB      7    7     0  2014-12   \n",
       "2              nyc      2    2     0  2015-12   \n",
       "3           Austin     47   47     0  2015-12   \n",
       "4        AskReddit      1    1     0  2014-11   \n",
       "\n",
       "                                      parent_comment  \n",
       "0  if I shot a guy through his clothing he wouldn...  \n",
       "1  It really does smell, doesn't it? I wish it we...  \n",
       "2  There Haven't Been This Many Vacant Rentals in...  \n",
       "3  Wilco PD Pulling Over Good Drivers to Distribu...  \n",
       "4       I knew that. Why did I type the other thing?  "
      ]
     },
     "execution_count": 5,
     "metadata": {},
     "output_type": "execute_result"
    }
   ],
   "source": [
    "test_df.head()"
   ]
  },
  {
   "cell_type": "code",
   "execution_count": null,
   "metadata": {},
   "outputs": [],
   "source": [
    "# test_df.drop('label',axis = 1,inplace = True)"
   ]
  },
  {
   "cell_type": "code",
   "execution_count": null,
   "metadata": {},
   "outputs": [],
   "source": [
    "# test_df.to_csv('datasets/test.csv',index=None,header = True)"
   ]
  },
  {
   "cell_type": "code",
   "execution_count": null,
   "metadata": {},
   "outputs": [],
   "source": [
    "# test_df['label'].to_csv('checker/test-pred.csv',index = None,header = True)"
   ]
  },
  {
   "cell_type": "code",
   "execution_count": null,
   "metadata": {},
   "outputs": [
    {
     "name": "stdout",
     "output_type": "stream",
     "text": [
      "<class 'pandas.core.frame.DataFrame'>\n",
      "RangeIndex: 808618 entries, 0 to 808617\n",
      "Data columns (total 9 columns):\n",
      "label             808618 non-null int64\n",
      "comment           808618 non-null object\n",
      "user              808618 non-null object\n",
      "topic             808618 non-null object\n",
      "score             808618 non-null int64\n",
      "top               808618 non-null int64\n",
      "down              808618 non-null int64\n",
      "date              808618 non-null object\n",
      "parent_comment    808618 non-null object\n",
      "dtypes: int64(4), object(5)\n",
      "memory usage: 55.5+ MB\n",
      "<class 'pandas.core.frame.DataFrame'>\n",
      "RangeIndex: 202155 entries, 0 to 202154\n",
      "Data columns (total 8 columns):\n",
      "comment           202155 non-null object\n",
      "user              202155 non-null object\n",
      "topic             202155 non-null object\n",
      "score             202155 non-null int64\n",
      "top               202155 non-null int64\n",
      "down              202155 non-null int64\n",
      "date              202155 non-null object\n",
      "parent_comment    202155 non-null object\n",
      "dtypes: int64(3), object(5)\n",
      "memory usage: 12.3+ MB\n"
     ]
    },
    {
     "data": {
      "text/plain": [
       "(None, None)"
      ]
     },
     "execution_count": 9,
     "metadata": {},
     "output_type": "execute_result"
    }
   ],
   "source": [
    "train_df.info(),test_df.info()"
   ]
  },
  {
   "cell_type": "markdown",
   "metadata": {},
   "source": [
    "**Exploratory Data Analysis** "
   ]
  },
  {
   "cell_type": "code",
   "execution_count": null,
   "metadata": {},
   "outputs": [
    {
     "data": {
      "image/png": "[encoded data removed]",
      "text/plain": [
       "<Figure size 432x288 with 1 Axes>"
      ]
     },
     "metadata": {
      "needs_background": "light"
     },
     "output_type": "display_data"
    }
   ],
   "source": [
    "train_df.loc[train_df['label'] == 1, 'comment'].str.len().apply(np.log1p).hist(label='sarcastic', alpha=.5)\n",
    "train_df.loc[train_df['label'] == 0, 'comment'].str.len().apply(np.log1p).hist(label='normal', alpha=.5)\n",
    "plt.legend();"
   ]
  },
  {
   "cell_type": "code",
   "execution_count": null,
   "metadata": {},
   "outputs": [
    {
     "data": {
      "text/html": [
       "<div>\n",
       "<style scoped>\n",
       "    .dataframe tbody tr th:only-of-type {\n",
       "        vertical-align: middle;\n",
       "    }\n",
       "\n",
       "    .dataframe tbody tr th {\n",
       "        vertical-align: top;\n",
       "    }\n",
       "\n",
       "    .dataframe thead th {\n",
       "        text-align: right;\n",
       "    }\n",
       "</style>\n",
       "<table border=\"1\" class=\"dataframe\">\n",
       "  <thead>\n",
       "    <tr style=\"text-align: right;\">\n",
       "      <th></th>\n",
       "      <th>size</th>\n",
       "      <th>mean</th>\n",
       "      <th>sum</th>\n",
       "    </tr>\n",
       "    <tr>\n",
       "      <th>topic</th>\n",
       "      <th></th>\n",
       "      <th></th>\n",
       "      <th></th>\n",
       "    </tr>\n",
       "  </thead>\n",
       "  <tbody>\n",
       "    <tr>\n",
       "      <th>AskReddit</th>\n",
       "      <td>52543</td>\n",
       "      <td>0.401595</td>\n",
       "      <td>21101</td>\n",
       "    </tr>\n",
       "    <tr>\n",
       "      <th>politics</th>\n",
       "      <td>31538</td>\n",
       "      <td>0.608441</td>\n",
       "      <td>19189</td>\n",
       "    </tr>\n",
       "    <tr>\n",
       "      <th>worldnews</th>\n",
       "      <td>21027</td>\n",
       "      <td>0.644505</td>\n",
       "      <td>13552</td>\n",
       "    </tr>\n",
       "    <tr>\n",
       "      <th>leagueoflegends</th>\n",
       "      <td>16791</td>\n",
       "      <td>0.543803</td>\n",
       "      <td>9131</td>\n",
       "    </tr>\n",
       "    <tr>\n",
       "      <th>pcmasterrace</th>\n",
       "      <td>15212</td>\n",
       "      <td>0.566592</td>\n",
       "      <td>8619</td>\n",
       "    </tr>\n",
       "    <tr>\n",
       "      <th>news</th>\n",
       "      <td>13512</td>\n",
       "      <td>0.600503</td>\n",
       "      <td>8114</td>\n",
       "    </tr>\n",
       "    <tr>\n",
       "      <th>funny</th>\n",
       "      <td>14383</td>\n",
       "      <td>0.450601</td>\n",
       "      <td>6481</td>\n",
       "    </tr>\n",
       "    <tr>\n",
       "      <th>pics</th>\n",
       "      <td>12998</td>\n",
       "      <td>0.484536</td>\n",
       "      <td>6298</td>\n",
       "    </tr>\n",
       "    <tr>\n",
       "      <th>todayilearned</th>\n",
       "      <td>11360</td>\n",
       "      <td>0.546039</td>\n",
       "      <td>6203</td>\n",
       "    </tr>\n",
       "    <tr>\n",
       "      <th>GlobalOffensive</th>\n",
       "      <td>11016</td>\n",
       "      <td>0.552469</td>\n",
       "      <td>6086</td>\n",
       "    </tr>\n",
       "  </tbody>\n",
       "</table>\n",
       "</div>"
      ],
      "text/plain": [
       "                  size      mean    sum\n",
       "topic                                  \n",
       "AskReddit        52543  0.401595  21101\n",
       "politics         31538  0.608441  19189\n",
       "worldnews        21027  0.644505  13552\n",
       "leagueoflegends  16791  0.543803   9131\n",
       "pcmasterrace     15212  0.566592   8619\n",
       "news             13512  0.600503   8114\n",
       "funny            14383  0.450601   6481\n",
       "pics             12998  0.484536   6298\n",
       "todayilearned    11360  0.546039   6203\n",
       "GlobalOffensive  11016  0.552469   6086"
      ]
     },
     "execution_count": 11,
     "metadata": {},
     "output_type": "execute_result"
    }
   ],
   "source": [
    "sub_df = train_df.groupby('topic')['label'].agg([np.size, np.mean, np.sum])\n",
    "sub_df.sort_values(by='sum', ascending=False).head(10)"
   ]
  },
  {
   "cell_type": "markdown",
   "metadata": {},
   "source": [
    "**Training the model and Vectorization**\n",
    "\n"
   ]
  },
  {
   "cell_type": "code",
   "execution_count": null,
   "metadata": {},
   "outputs": [],
   "source": [
    "train_comment = train_df['comment']\n",
    "test_comment = test_df['comment']\n",
    "train_pred = train_df['label']"
   ]
  },
  {
   "cell_type": "code",
   "execution_count": null,
   "metadata": {},
   "outputs": [],
   "source": [
    "# build bigrams, put a limit on maximal number of features\n",
    "# and minimal word frequency\n",
    "tf_idf = TfidfVectorizer(ngram_range=(1, 2), max_features=50000, min_df=2)\n",
    "# multinomial logistic regression a.k.a softmax classifier\n",
    "logit = LogisticRegression(C=1, n_jobs=4, solver='lbfgs', \n",
    "                           random_state=17, verbose=1)\n",
    "# sklearn's pipeline\n",
    "tfidf_logit_pipeline = Pipeline([('tf_idf', tf_idf), \n",
    "                                 ('logit', logit)])"
   ]
  },
  {
   "cell_type": "code",
   "execution_count": null,
   "metadata": {},
   "outputs": [],
   "source": [
    "tfidf_logit_pipeline.fit(train_comment, train_pred)"
   ]
  },
  {
   "cell_type": "code",
   "execution_count": null,
   "metadata": {},
   "outputs": [],
   "source": [
    "test_pred = tfidf_logit_pipeline.predict(test_comment)"
   ]
  },
  {
   "cell_type": "markdown",
   "metadata": {},
   "source": [
    "**Submission**"
   ]
  },
  {
   "cell_type": "code",
   "execution_count": null,
   "metadata": {},
   "outputs": [],
   "source": [
    "np.savetxt('checker/submission.csv',test_pred)"
   ]
  },
  {
   "cell_type": "markdown",
   "metadata": {},
   "source": [
    "**Evaluation**"
   ]
  },
  {
   "cell_type": "code",
   "execution_count": null,
   "metadata": {},
   "outputs": [],
   "source": [
    "def evaluation(checker,submission):\n",
    "    return accuracy_score(checker,submission)"
   ]
  },
  {
   "cell_type": "code",
   "execution_count": null,
   "metadata": {},
   "outputs": [],
   "source": [
    "submission = pd.read_csv('checker/submission.csv',header = None)\n",
    "submission.head()"
   ]
  },
  {
   "cell_type": "code",
   "execution_count": null,
   "metadata": {},
   "outputs": [],
   "source": [
    "checker = pd.read_csv('checker/test-pred.csv')\n",
    "checker.head()"
   ]
  },
  {
   "cell_type": "code",
   "execution_count": null,
   "metadata": {},
   "outputs": [],
   "source": [
    "evaluation(checker,submission)"
   ]
  }
 ],
 "metadata": {
  "kernelspec": {
   "display_name": "Python 3",
   "language": "python",
   "name": "python3"
  },
  "language_info": {
   "codemirror_mode": {
    "name": "ipython",
    "version": 3
   },
   "file_extension": ".py",
   "mimetype": "text/x-python",
   "name": "python",
   "nbconvert_exporter": "python",
   "pygments_lexer": "ipython3",
   "version": "3.7.1"
  }
 },
 "nbformat": 4,
 "nbformat_minor": 2
}
